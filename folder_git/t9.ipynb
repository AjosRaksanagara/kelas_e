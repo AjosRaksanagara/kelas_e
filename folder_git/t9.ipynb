{
 "cells": [
  {
   "cell_type": "code",
   "execution_count": 3,
   "metadata": {},
   "outputs": [],
   "source": [
    "data_panen = {\n",
    "    \"lokasi1\": {\n",
    "        \"nama_lokasi\": \"Kebun A\",\n",
    "        \"hasil_panen\": {\n",
    "            \"padi\": 1200,\n",
    "            \"jagung\": 800,\n",
    "            \"kedelai\": 500\n",
    "        }\n",
    "    },\n",
    "    \"lokasi2\": {\n",
    "        \"nama_lokasi\": \"Kebun B\",\n",
    "        \"hasil_panen\": {\n",
    "            \"padi\": 1500,\n",
    "            \"jagung\": 900,\n",
    "            \"kedelai\": 450\n",
    "        }\n",
    "    },\n",
    "    \"lokasi3\": {\n",
    "        \"nama_lokasi\": \"Kebun C\",\n",
    "        \"hasil_panen\": {\n",
    "            \"padi\": 1100,\n",
    "            \"jagung\": 750,\n",
    "            \"kedelai\": 600\n",
    "        }\n",
    "    },\n",
    "    \"lokasi4\": {\n",
    "        \"nama_lokasi\": \"Kebun D\",\n",
    "        \"hasil_panen\": {\n",
    "            \"padi\": 1300,\n",
    "            \"jagung\": 850,\n",
    "            \"kedelai\": 550\n",
    "        }\n",
    "    },\n",
    "    \"lokasi5\": {\n",
    "        \"nama_lokasi\": \"Kebun E\",\n",
    "        \"hasil_panen\": {\n",
    "            \"padi\": 1400,\n",
    "            \"jagung\": 950,\n",
    "            \"kedelai\": 480\n",
    "        }\n",
    "    }\n",
    "}\n",
    "\n",
    "# total_hasil_panen = {}\n",
    "\n",
    "# for lokasi, data in data_panen.items():\n",
    "#     nama_lokasi = data[\"nama_lokasi\"]\n",
    "#     total_padi = data[\"hasil_panen\"][\"padi\"]\n",
    "#     total_kedelai = data[\"hasil_panen\"][\"kedelai\"]\n",
    "    \n",
    "#     total_hasil_panen[nama_lokasi] = {\n",
    "#         \"padi\": total_padi,\n",
    "#         \"kedelai\": total_kedelai\n",
    "#     }\n",
    "\n",
    "# for lokasi, hasil in total_hasil_panen.items():\n",
    "#     print(f\"Lokasi: {lokasi}\")\n",
    "#     for tanaman, jumlah in hasil.items():\n",
    "#         print(f\"  {tanaman}: {jumlah}\")\n"
   ]
  },
  {
   "cell_type": "code",
   "execution_count": 5,
   "metadata": {},
   "outputs": [
    {
     "name": "stdout",
     "output_type": "stream",
     "text": [
      "Lokasi: Kebun A\n",
      "Hasil Panen: {'padi': 1200, 'jagung': 800, 'kedelai': 500}\n",
      "\n",
      "\n",
      "Lokasi: Kebun B\n",
      "Hasil Panen: {'padi': 1500, 'jagung': 900, 'kedelai': 450}\n",
      "\n",
      "\n",
      "Lokasi: Kebun C\n",
      "Hasil Panen: {'padi': 1100, 'jagung': 750, 'kedelai': 600}\n",
      "\n",
      "\n",
      "Lokasi: Kebun D\n",
      "Hasil Panen: {'padi': 1300, 'jagung': 850, 'kedelai': 550}\n",
      "\n",
      "\n",
      "Lokasi: Kebun E\n",
      "Hasil Panen: {'padi': 1400, 'jagung': 950, 'kedelai': 480}\n",
      "\n",
      "\n"
     ]
    }
   ],
   "source": [
    "# Tampilkan seluruh data dari data_panen termasuk nama lokasi dan hasil panen masing-masing.\n",
    "for lokasi in data_panen:\n",
    "    print(f\"Lokasi: {data_panen[lokasi]['nama_lokasi']}\")\n",
    "    print(f\"Hasil Panen: {data_panen[lokasi]['hasil_panen']}\")\n",
    "    print(\"\\n\")"
   ]
  },
  {
   "cell_type": "code",
   "execution_count": 6,
   "metadata": {},
   "outputs": [
    {
     "name": "stdout",
     "output_type": "stream",
     "text": [
      "Jumlah hasil panen daro lokasi 2 adalah: 900\n"
     ]
    }
   ],
   "source": [
    "# Tampilkan jumlah hasil panen jagung dari lokasi2.\n",
    "print('Jumlah hasil panen daro lokasi 2 adalah:',data_panen[\"lokasi2\"][\"hasil_panen\"][\"jagung\"])"
   ]
  },
  {
   "cell_type": "code",
   "execution_count": 8,
   "metadata": {},
   "outputs": [
    {
     "name": "stdout",
     "output_type": "stream",
     "text": [
      "Nama lokasi dari lokasi 3 adalah: Kebun C\n"
     ]
    }
   ],
   "source": [
    "# Tampilkan nama lokasi dari lokasi 3\n",
    "print('Nama lokasi dari lokasi 3 adalah:',data_panen[\"lokasi3\"][\"nama_lokasi\"])"
   ]
  },
  {
   "cell_type": "code",
   "execution_count": 9,
   "metadata": {},
   "outputs": [
    {
     "name": "stdout",
     "output_type": "stream",
     "text": [
      "Hasil Panen Padi:1200,\n",
      "Hasil Panen Kedelai:500\n"
     ]
    }
   ],
   "source": [
    "# Masukkan Jumlah Hasil Panen Padi dan Kedelai Setiap Lokasi ke Dalam Variabel yang Berbeda\n",
    "hasil_padi = data_panen[\"lokasi1\"][\"hasil_panen\"][\"padi\"]\n",
    "hasil_kedelai = data_panen[\"lokasi1\"][\"hasil_panen\"][\"kedelai\"]\n",
    "\n",
    "print(f'Hasil Panen Padi:{hasil_padi},\\nHasil Panen Kedelai:{hasil_kedelai}')\n"
   ]
  },
  {
   "cell_type": "code",
   "execution_count": 10,
   "metadata": {},
   "outputs": [],
   "source": [
    "# Buat variabel terpisah untuk menyimpan jumlah hasil panen padi dan kedelai dari setiap lokasi.\n",
    "# Membuat variabel terpisah untuk setiap lokasi\n",
    "total_hasil_panen = {}\n",
    "\n",
    "for lokasi, data in data_panen.items():\n",
    "    nama_lokasi = data[\"nama_lokasi\"]\n",
    "    total_padi = data[\"hasil_panen\"][\"padi\"]\n",
    "    total_kedelai = data[\"hasil_panen\"][\"kedelai\"]\n",
    "    \n",
    "    total_hasil_panen[nama_lokasi] = {\n",
    "        \"padi\": total_padi,\n",
    "        \"kedelai\": total_kedelai\n",
    "    }"
   ]
  },
  {
   "cell_type": "code",
   "execution_count": null,
   "metadata": {},
   "outputs": [
    {
     "name": "stdout",
     "output_type": "stream",
     "text": [
      "Lokasi: lokasi1\n",
      "  Hasil Panen:\n",
      "    padi: 1200\n",
      "    jagung: 800\n",
      "    kedelai: 500\n",
      "  Status: Kondisi baik.\n",
      "Lokasi: lokasi2\n",
      "  Hasil Panen:\n",
      "    padi: 1500\n",
      "    jagung: 900\n",
      "    kedelai: 450\n",
      "  Status: Perlu perhatian khusus!\n",
      "Lokasi: lokasi3\n",
      "  Hasil Panen:\n",
      "    padi: 1100\n",
      "    jagung: 750\n",
      "    kedelai: 600\n",
      "  Status: Kondisi baik.\n",
      "Lokasi: lokasi4\n",
      "  Hasil Panen:\n",
      "    padi: 1300\n",
      "    jagung: 850\n",
      "    kedelai: 550\n",
      "  Status: Perlu perhatian khusus!\n",
      "Lokasi: lokasi5\n",
      "  Hasil Panen:\n",
      "    padi: 1400\n",
      "    jagung: 950\n",
      "    kedelai: 480\n",
      "  Status: Perlu perhatian khusus!\n"
     ]
    }
   ],
   "source": [
    "# Buat Percabangan\n",
    "# Jika jumlah hasil panen padi lebih dari 1300 atau jagung lebih dari 800 di suatu lokasi, maka lokasi tersebut memerlukan perhatian khusus.\n",
    "# Jika tidak, maka lokasi tersebut dalam kondisi baik.\n",
    "for lokasi, data in data_panen.items():\n",
    "    print(f\"Lokasi: {lokasi}\")\n",
    "    print(f\"  Hasil Panen:\")\n",
    "    for tanaman, jumlah in data[\"hasil_panen\"].items():\n",
    "        print(f\"    {tanaman}: {jumlah}\")\n",
    "    \n",
    "    # Cek kondisi khusus (perbaiki akses ke data hasil panen)\n",
    "    if data[\"hasil_panen\"][\"padi\"] > 1300 or data[\"hasil_panen\"][\"jagung\"] > 800:\n",
    "        print(\"  Status: Perlu perhatian khusus!\")\n",
    "    else:\n",
    "        print(\"  Status: Kondisi baik.\")"
   ]
  }
 ],
 "metadata": {
  "kernelspec": {
   "display_name": "Python 3",
   "language": "python",
   "name": "python3"
  },
  "language_info": {
   "codemirror_mode": {
    "name": "ipython",
    "version": 3
   },
   "file_extension": ".py",
   "mimetype": "text/x-python",
   "name": "python",
   "nbconvert_exporter": "python",
   "pygments_lexer": "ipython3",
   "version": "3.12.6"
  }
 },
 "nbformat": 4,
 "nbformat_minor": 2
}
